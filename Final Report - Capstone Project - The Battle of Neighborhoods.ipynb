{
 "cells": [
  {
   "cell_type": "markdown",
   "metadata": {},
   "source": [
    "# <div align=\"center\"> Final Report\n",
    "# <div align=\"center\"> Capstone Project - The Battle of Neighborhoods"
   ]
  },
  {
   "cell_type": "markdown",
   "metadata": {},
   "source": [
    "### <div align=\"center\"> Wala Touhami, Feb 2021"
   ]
  },
  {
   "cell_type": "markdown",
   "metadata": {},
   "source": [
    "# Abstract"
   ]
  },
  {
   "cell_type": "markdown",
   "metadata": {},
   "source": [
    "# I. Introduction"
   ]
  },
  {
   "cell_type": "markdown",
   "metadata": {},
   "source": [
    "As a part of the IBM Data science professional program capstone project, we worked on real datasets. The main objectives of this project were to define a business problem, look for data and use FourSaqure location to figure out whitch Toronto's neighborhood is suitable for starting a new restaurant business."
   ]
  },
  {
   "cell_type": "markdown",
   "metadata": {},
   "source": [
    "# II. Business problem"
   ]
  },
  {
   "cell_type": "markdown",
   "metadata": {},
   "source": [
    " The objective of our capstone project is to find the most suitable neighborhood to open a new Italian restaurant in Toronto. By using data science methods and machine learning algorithms such clustering, we aim to provide solution to answer this business question: if an entrepreneur wants to open an Italian restaurant in Toronto, where should they consider open it?"
   ]
  },
  {
   "cell_type": "markdown",
   "metadata": {},
   "source": [
    "# III. Data acquisition"
   ]
  },
  {
   "cell_type": "markdown",
   "metadata": {},
   "source": [
    "To solve this problem, we will need the below data:\n",
    "<ol>\n",
    "<li>Wikipedia demographics of Toronto (<a>\"https://en.wikipedia.org/wiki/Demographics_of_Toronto\"</a>): wiki page to get all informations about the distribution of ethnic groups per neighborhood in Toronto.</li>\n",
    "<li>Using Toronto ward profiles website (<a>https://www.toronto.ca/city-government/data-research-maps/neighbourhoods-communities/ward-profiles/</a>, we create our own dataset composed of informations about each neighborhood as: density (people/hectare), average income and unemployment rate </li>\n",
    "<li>The geographical coordinates of each neighborhood are extracted using geopy.geocoders python library.</li>\n",
    "<li> FourSqure API is used to explore all venues in Toronto. We are fetching details as: their names, categories, locations, average rating, etc.</li>     \n",
    "</ol>"
   ]
  },
  {
   "cell_type": "markdown",
   "metadata": {},
   "source": [
    "# IV. Methodology"
   ]
  },
  {
   "cell_type": "markdown",
   "metadata": {},
   "source": [
    "###    1. Data cleaning"
   ]
  },
  {
   "cell_type": "markdown",
   "metadata": {},
   "source": [
    "#### a) Dataframe of distribution of ethnic groups in Toronto"
   ]
  },
  {
   "cell_type": "markdown",
   "metadata": {},
   "source": [
    "Data are scrapped from Wikipedia page using Pandas HTML table scaping method as it is easier and more convinient to pull all tabular data directly from web pages into dataframes.\n",
    "For the dataframe of distribution of ethnic groups in Toronto, we will only use the first 4 ethnics groups present in each neighborhood. We choose to set the NAN values at value 0. After columns names modifications, we got the following dataframe \"Ethnic_df\"."
   ]
  },
  {
   "cell_type": "markdown",
   "metadata": {},
   "source": [
    "#### b) Adding Geographical coordinates"
   ]
  },
  {
   "cell_type": "markdown",
   "metadata": {},
   "source": [
    "Now, we will need to get the geographical coordiantes of these neighborhoods in purpuse to use FourSquare API later to pull all venues near these cities. To do so, we use <i> geopy.geocoders </i> python library to get LATITUDE and LONGITUDE of each neighborhood. These coordinates are combined to the previons dataframe, we got the following dataframe \"Ethnic_df\":"
   ]
  },
  {
   "cell_type": "markdown",
   "metadata": {},
   "source": [
    "![image info](./Ethnic_df.png)"
   ]
  },
  {
   "cell_type": "markdown",
   "metadata": {},
   "source": [
    "#### c) Foursquare API"
   ]
  },
  {
   "cell_type": "markdown",
   "metadata": {},
   "source": [
    "FourSquare API is a very useful online application used by many developpers & other applications as Uber, etc. In this capstone project, we use FourSquare to pull the 100 most popular venues present in each neighborhood of Toronto. A dataframe \"Toronto_venues\" of all these venues is created. It contains :venue's name, venue's latitude, venue's longitude, venue's category."
   ]
  },
  {
   "cell_type": "markdown",
   "metadata": {},
   "source": [
    "![image info](./Toronto_venues.png)"
   ]
  },
  {
   "cell_type": "markdown",
   "metadata": {},
   "source": [
    "#### d) Dataset of Neighborhood characteristics"
   ]
  },
  {
   "cell_type": "markdown",
   "metadata": {},
   "source": [
    "Using Toronto ward profiles website (https://www.toronto.ca/city-government/data-research-maps/neighbourhoods-communities/ward-profiles/, we create our own dataset composed of informations about each neighborhood as: density (people/hectare), average income and unemployment rate. We choose to set the NAN values at value 0. we got the following dataframe \"Toronto_df\":"
   ]
  },
  {
   "cell_type": "markdown",
   "metadata": {},
   "source": [
    "![image info](./Toronto_df.png)"
   ]
  },
  {
   "cell_type": "markdown",
   "metadata": {},
   "source": []
  },
  {
   "cell_type": "markdown",
   "metadata": {},
   "source": [
    "### 2. Data visualization"
   ]
  },
  {
   "cell_type": "markdown",
   "metadata": {},
   "source": [
    "#### a) An interactive leaflet map of Toronto "
   ]
  },
  {
   "cell_type": "markdown",
   "metadata": {},
   "source": [
    "An interactive leaflet map of Toronto is plotted using the folium library. We marked all neighborhoods of Toronto in this map. Specially, we marked with big black circle the neighborhoods with hogh concentration of italian  people."
   ]
  },
  {
   "cell_type": "markdown",
   "metadata": {},
   "source": [
    "![image info](./Toronto_map.png)"
   ]
  },
  {
   "cell_type": "markdown",
   "metadata": {},
   "source": [
    "#### b) Bar plot of AVG Income per Neighborhood"
   ]
  },
  {
   "cell_type": "markdown",
   "metadata": {},
   "source": [
    "![image info](./Neigh_Income.png)"
   ]
  },
  {
   "cell_type": "markdown",
   "metadata": {},
   "source": [
    "We notice that almost neighborhoods had equivalent Income,except 4/5 neighborhoods which are:\n",
    "<ul>\n",
    "<li>Toronto-St. Paul's</li>\n",
    "<li>University-Rosedale</li>\n",
    "<li>Eglimton-Lawrence</li>\n",
    "<li>Don Valley East</li>\n",
    "<li>Etobicoke North</li>\n",
    "</ul>"
   ]
  },
  {
   "cell_type": "markdown",
   "metadata": {},
   "source": [
    "#### c) Bar plot of Number of Italien restaurent per Neighborhood"
   ]
  },
  {
   "cell_type": "markdown",
   "metadata": {},
   "source": [
    "![image info](./Neigh_Resto.png)"
   ]
  },
  {
   "cell_type": "markdown",
   "metadata": {},
   "source": [
    "### 3.  Clustering neighborhoods in Toronto"
   ]
  },
  {
   "cell_type": "markdown",
   "metadata": {},
   "source": [
    "We merge the 2 dataframes 'Ethnic_df' and 'Toronto_df' and we add columns that indicates the number of italian restaurant and the tatoal number iof restaurants for each neighborhood."
   ]
  },
  {
   "cell_type": "markdown",
   "metadata": {},
   "source": [
    "Lastly, we performed the clustering method to segment the neighborhoods in k clusters in order to find similar neighborhoods in a big city like Toronto. To be able to do that, we need an algorithm of unsupervised machine learning like k-means.It is one of the simplest and popular unsupervised machine learning algorithms and it is highly suited for this project as well. We have clustered the neighborhoods in Toronto into 5 clusters based on their AVG Income, unemployment rate, percentage of first,second third and fourth distribution of ethnic groups, number of italian restaurant and finally total number of restaurant. Based on the results (the concentration of clusters), we will be able to recommend the ideal location to open the restaurant."
   ]
  },
  {
   "cell_type": "markdown",
   "metadata": {},
   "source": [
    "# V. Results"
   ]
  },
  {
   "cell_type": "markdown",
   "metadata": {},
   "source": [
    "After performing clustering neighborhoods method on 6 clusters , we found the following distribution of clusters:"
   ]
  },
  {
   "cell_type": "markdown",
   "metadata": {},
   "source": [
    "![image info](./Clusters_map.png)"
   ]
  },
  {
   "cell_type": "markdown",
   "metadata": {},
   "source": [
    "### Examine the clusters"
   ]
  },
  {
   "cell_type": "markdown",
   "metadata": {},
   "source": [
    "__Cluster 1__"
   ]
  },
  {
   "cell_type": "markdown",
   "metadata": {},
   "source": [
    "CLuster 1 contains neighborhoods which has only 2 Italian Restaurants and \n",
    "an average income of $162.992. This cluster of neighborhoods doesn't contain nany italian group."
   ]
  },
  {
   "cell_type": "markdown",
   "metadata": {},
   "source": [
    "![image info](./Cluster1_df.png)"
   ]
  },
  {
   "cell_type": "markdown",
   "metadata": {},
   "source": [
    "__Cluster 2__"
   ]
  },
  {
   "cell_type": "markdown",
   "metadata": {},
   "source": [
    "CLuster 2 contains neighborhoods which has 7 Italian Restaurants and \n",
    "an average income of $102.006. This cluster of neighborhoods doesn't contain any italian group."
   ]
  },
  {
   "cell_type": "markdown",
   "metadata": {},
   "source": [
    "![image info](./Cluster2_df.png)"
   ]
  },
  {
   "cell_type": "markdown",
   "metadata": {},
   "source": [
    "__Cluster 3__"
   ]
  },
  {
   "cell_type": "markdown",
   "metadata": {},
   "source": [
    "Cluster 3 contains neighborhoods which has 9 Italian Restaurants and \n",
    "an average income of $79.627. This cluster of neighborhoods is medium populated with italian people that represents 13,4\\% of the population in neighborhood 'York Ventre'."
   ]
  },
  {
   "cell_type": "markdown",
   "metadata": {},
   "source": [
    "![image info](./Cluster3_df.png)"
   ]
  },
  {
   "cell_type": "markdown",
   "metadata": {},
   "source": [
    "__Cluster 4__"
   ]
  },
  {
   "cell_type": "markdown",
   "metadata": {},
   "source": [
    "Cluster 4 contains neighborhoods which has 4 Italian Restaurants and \n",
    "an average income of $69.352. This cluster of neighborhoods is medium populated with italian people that represents 12,8\\% of the population in neighborhood 'Humber River-Black Creek'."
   ]
  },
  {
   "cell_type": "markdown",
   "metadata": {},
   "source": [
    "![image info](./Cluster4_df.png)"
   ]
  },
  {
   "cell_type": "markdown",
   "metadata": {},
   "source": [
    "__Cluster 5__"
   ]
  },
  {
   "cell_type": "markdown",
   "metadata": {},
   "source": [
    "Cluster 5 contains neighborhoods which has only one Italian Restaurant and \n",
    "an average income of $216.158. This cluster of neighborhoods doesn't contain any italian group."
   ]
  },
  {
   "cell_type": "markdown",
   "metadata": {},
   "source": [
    "![image info](./Cluster5_df.png)"
   ]
  },
  {
   "cell_type": "markdown",
   "metadata": {},
   "source": [
    "__Cluster 6__"
   ]
  },
  {
   "cell_type": "markdown",
   "metadata": {},
   "source": [
    "Cluster 4 contains neighborhoods which has only one Italian Restaurant and \n",
    "an average income of $128.448. This cluster of neighborhoods is the most populated with italian people that represents 15,1\\% of the population in neighborhood 'Humber River-Black Creek'."
   ]
  },
  {
   "cell_type": "markdown",
   "metadata": {},
   "source": [
    "![image info](./Cluster6_df.png)"
   ]
  },
  {
   "cell_type": "markdown",
   "metadata": {},
   "source": [
    "# VI. Discussion"
   ]
  },
  {
   "cell_type": "markdown",
   "metadata": {},
   "source": [
    "In this section, we will document all the findings from the above clustering and visualization of the dataset. In this project, we choose the business problemen of identifying the most suitable neighborhood in Toronto to open an Italian restaurant. To achieve that, we looked into all the population, the average income and the unemployment rate of each neighborhood. We analyse too the distribution of the italian population and the number of the italian restaurant in each neighborhood.\n",
    "\n",
    "We found that the neighborhoods of cluster 5 have the higher average income but there are no restaurants at all in these neighborhoods et no italian population.\n",
    "\n",
    "With the help of clusters examining and the bar plots looks like cluster 2 composed of Scarborough-Rouge Park, Spadina-Fort York, Beaches-East York, Parkdale-High Park, Toronto-Danforth, Willowdale and Etobicoke-Lakeshore are already densely populated with Italian restaurants. So it is better idea to leave those boroughs out and consider the others  for the new restaurant’s location.\n",
    "\n",
    "__Cluster 6 is composed with only one neighborhood 'Etobicoke Centre' has a high agerage income and 15,1\\% of his population are italian et no restaurants at all. After careful considerantion it is a good ide a to open a lux  italian restaurant in Etobicoke Centre since it has a hogh number of italian population and a high average income .__\n"
   ]
  },
  {
   "cell_type": "markdown",
   "metadata": {},
   "source": [
    "![image info](./subplots.png)"
   ]
  },
  {
   "cell_type": "markdown",
   "metadata": {},
   "source": [
    "# VII. Conclusion"
   ]
  },
  {
   "cell_type": "markdown",
   "metadata": {},
   "source": [
    "Finally to conclude this project, we have gone through the process of identifying the business problem, extracting and preprocessing the dara, performing unsupervised machine learning algorithm bu uisng k-means clustering providing an answer to the business probleme which is to choose the neighborhood in Toronto to open a new italian restaurant."
   ]
  }
 ],
 "metadata": {
  "kernelspec": {
   "display_name": "Python 3",
   "language": "python",
   "name": "python3"
  },
  "language_info": {
   "codemirror_mode": {
    "name": "ipython",
    "version": 3
   },
   "file_extension": ".py",
   "mimetype": "text/x-python",
   "name": "python",
   "nbconvert_exporter": "python",
   "pygments_lexer": "ipython3",
   "version": "3.7.4"
  }
 },
 "nbformat": 4,
 "nbformat_minor": 4
}
